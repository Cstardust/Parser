{
 "cells": [
  {
   "cell_type": "code",
   "execution_count": 1,
   "id": "676a5e9a-b6ce-406f-a47f-0d37aca66a06",
   "metadata": {
    "execution": {
     "iopub.execute_input": "2024-03-23T17:05:50.130971Z",
     "iopub.status.busy": "2024-03-23T17:05:50.130553Z",
     "iopub.status.idle": "2024-03-23T17:05:50.137865Z",
     "shell.execute_reply": "2024-03-23T17:05:50.136923Z",
     "shell.execute_reply.started": "2024-03-23T17:05:50.130950Z"
    },
    "tags": []
   },
   "outputs": [],
   "source": [
    "import json,random\n",
    "random.seed(123)"
   ]
  },
  {
   "cell_type": "code",
   "execution_count": 2,
   "id": "b4750312-19f5-474d-8d70-d5c34a8c7a91",
   "metadata": {
    "execution": {
     "iopub.execute_input": "2024-03-23T17:05:52.530330Z",
     "iopub.status.busy": "2024-03-23T17:05:52.529964Z",
     "iopub.status.idle": "2024-03-23T17:05:53.022433Z",
     "shell.execute_reply": "2024-03-23T17:05:53.021642Z",
     "shell.execute_reply.started": "2024-03-23T17:05:52.530306Z"
    },
    "tags": []
   },
   "outputs": [],
   "source": [
    "!cat merge_gpt_hanlp.conll ../aug/diag_weakcodt_sampled/diag_train_merged.conll > data.conll"
   ]
  },
  {
   "cell_type": "code",
   "execution_count": 3,
   "id": "27d61da4-fe33-4105-9ac4-300d69011849",
   "metadata": {
    "execution": {
     "iopub.execute_input": "2024-03-23T17:06:13.660314Z",
     "iopub.status.busy": "2024-03-23T17:06:13.659903Z",
     "iopub.status.idle": "2024-03-23T17:06:13.915244Z",
     "shell.execute_reply": "2024-03-23T17:06:13.914613Z",
     "shell.execute_reply.started": "2024-03-23T17:06:13.660285Z"
    },
    "tags": []
   },
   "outputs": [],
   "source": [
    "with open(\"data.conll\",\"r\",encoding=\"utf8\") as fi_conll,\\\n",
    "    open(\"train.conll\",\"w\",encoding=\"utf8\") as fo_train_conll,\\\n",
    "    open(\"test.conll\",\"w\",encoding=\"utf8\") as fo_test_conll:\n",
    "    turn_text = fi_conll.read().split(\"\\n\\n\")\n",
    "    random.shuffle(turn_text)\n",
    "    split_idx = int(0.9*len(turn_text))\n",
    "    tain_data = turn_text[:split_idx]\n",
    "    test_data = turn_text[split_idx:]\n",
    "    \n",
    "    fo_train_conll.write(\"\\n\\n\".join(tain_data))\n",
    "    fo_test_conll.write(\"\\n\\n\".join(test_data))\n",
    "    "
   ]
  },
  {
   "cell_type": "code",
   "execution_count": null,
   "id": "6ccbc738-57af-4500-9d9b-d6aea2fe5ff5",
   "metadata": {},
   "outputs": [],
   "source": []
  },
  {
   "cell_type": "code",
   "execution_count": null,
   "id": "a7fb6c30-8a3d-42b3-89be-c6ccabfa5785",
   "metadata": {},
   "outputs": [],
   "source": []
  },
  {
   "cell_type": "code",
   "execution_count": null,
   "id": "bfdeddb9-6b07-4321-b3c5-ad82dac34b2f",
   "metadata": {},
   "outputs": [],
   "source": []
  },
  {
   "cell_type": "code",
   "execution_count": null,
   "id": "a3c2da9a-b3c8-4ec7-9d7d-ea0d81ccb44d",
   "metadata": {},
   "outputs": [],
   "source": []
  }
 ],
 "metadata": {
  "kernelspec": {
   "display_name": "Python 3 (ipykernel)",
   "language": "python",
   "name": "python3"
  },
  "language_info": {
   "codemirror_mode": {
    "name": "ipython",
    "version": 3
   },
   "file_extension": ".py",
   "mimetype": "text/x-python",
   "name": "python",
   "nbconvert_exporter": "python",
   "pygments_lexer": "ipython3",
   "version": "3.11.5"
  }
 },
 "nbformat": 4,
 "nbformat_minor": 5
}
