{
 "cells": [
  {
   "cell_type": "code",
   "execution_count": null,
   "metadata": {},
   "outputs": [],
   "source": [
    "import json\n",
    "import random\n",
    "import pandas as pd\n",
    "from tqdm import tqdm"
   ]
  },
  {
   "cell_type": "code",
   "execution_count": null,
   "metadata": {},
   "outputs": [],
   "source": [
    "# 加载新的对话数据集\n",
    "with open(\"./DuLeMon/dev.json\", \"r\", encoding=\"utf-8\") as fi_new_conversation:\n",
    "    new_conversation_data = []\n",
    "    for once_line in fi_new_conversation:\n",
    "        conversation_ = json.loads(once_line)[\"conversation\"]\n",
    "        conversation_ = [_[4:].strip().split(\"\\t\")[0] for _ in conversation_]\n",
    "        new_conversation_data.append(conversation_)\n",
    "print(len(new_conversation_data))\n",
    "print(new_conversation_data[0])"
   ]
  },
  {
   "cell_type": "code",
   "execution_count": null,
   "metadata": {},
   "outputs": [],
   "source": [
    "# 这里为啥要搞成一一对应? 什么意思? \n",
    "# 左侧的依存关系从哪里来的?\n",
    "dep_map_text=\"\"\"root:root\n",
    "nn:cmp\n",
    "punct:punc\n",
    "nsubj:coo\n",
    "conj:coo\n",
    "dobj:obj\n",
    "advmod:adv\n",
    "prep:pobj\n",
    "nummod:coo\n",
    "amod:att\n",
    "pobj:pobj\n",
    "rcmod:att\n",
    "cpm:coo\n",
    "assm:app\n",
    "assmod:app\n",
    "cc:sasubj\n",
    "clf:coo\n",
    "ccomp:adv\n",
    "det:de\n",
    "lobj:obj\n",
    "range:obj\n",
    "asp:app\n",
    "tmod:att\n",
    "plmod:att\n",
    "attr:att\n",
    "mmod:att\n",
    "loc:att\n",
    "top:att\n",
    "pccomp:att\n",
    "etc:app\n",
    "lccomp:cmp\n",
    "ordmod:att\n",
    "xsubj:subj\n",
    "neg:att\n",
    "rcomp:cmp\n",
    "comod:frag\n",
    "vmod:adv\n",
    "prtmod:att\n",
    "ba:att\n",
    "dvpm:adv\n",
    "dvpmod:adv\n",
    "prnmod:adv\n",
    "cop:cmp\n",
    "pass:att\n",
    "nsubjpass:subj-in\n",
    "dep:att\"\"\".split(\"\\n\")\n",
    "\n",
    "dep_map_dict = {}\n",
    "for once_a in dep_map_text:\n",
    "    _key,_map = once_a.split(\":\")\n",
    "    dep_map_dict[_key] = _map\n",
    "\n",
    "print(dep_map_dict)"
   ]
  },
  {
   "cell_type": "code",
   "execution_count": null,
   "metadata": {},
   "outputs": [],
   "source": []
  },
  {
   "cell_type": "code",
   "execution_count": null,
   "metadata": {},
   "outputs": [],
   "source": [
    "import hanlp\n",
    "HanLP = hanlp.load(hanlp.pretrained.mtl.CLOSE_TOK_POS_NER_SRL_DEP_SDP_CON_ELECTRA_BASE_ZH)\n",
    "\n",
    "with open(\"dev_hanlp.conll\",\"w\",encoding=\"utf8\") as fo:\n",
    "    for once_dialog in new_conversation_data:\n",
    "        once_dialog_list = [_.split() for _ in once_dialog]\n",
    "        # print(once_dialog_list)\n",
    "        doc = HanLP(once_dialog_list, tasks='dep', skip_tasks='tok*')\n",
    "        line_list = doc.to_conll()\n",
    "        dep_list = str(doc.to_conll()).split(\"\\n\")\n",
    "        dep_list = [_.split(\"\\t\") for _ in dep_list]\n",
    "        \n",
    "        once_dep_list = []\n",
    "        for once_dep in dep_list:\n",
    "            if len(once_dep)==1:\n",
    "                once_dep_list.append(\"\")\n",
    "                continue\n",
    "            once_dep[-3] = dep_map_dict[once_dep[-3]]\n",
    "            once_dep = \"\\t\".join(once_dep)\n",
    "            once_dep_list.append(once_dep)\n",
    "        print(once_dep_list)\n",
    "        fo.write(\"\\n\".join(once_dep_list)+\"\\n\")\n"
   ]
  },
  {
   "cell_type": "code",
   "execution_count": null,
   "metadata": {},
   "outputs": [],
   "source": []
  },
  {
   "cell_type": "code",
   "execution_count": null,
   "metadata": {},
   "outputs": [],
   "source": []
  },
  {
   "cell_type": "code",
   "execution_count": null,
   "metadata": {},
   "outputs": [],
   "source": []
  }
 ],
 "metadata": {
  "kernelspec": {
   "display_name": "Python 3 (ipykernel)",
   "language": "python",
   "name": "python3"
  },
  "language_info": {
   "codemirror_mode": {
    "name": "ipython",
    "version": 3
   },
   "file_extension": ".py",
   "mimetype": "text/x-python",
   "name": "python",
   "nbconvert_exporter": "python",
   "pygments_lexer": "ipython3",
   "version": "3.11.5"
  }
 },
 "nbformat": 4,
 "nbformat_minor": 4
}
