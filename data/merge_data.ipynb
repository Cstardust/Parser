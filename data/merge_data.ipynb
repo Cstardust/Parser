{
 "cells": [
  {
   "cell_type": "code",
   "execution_count": null,
   "metadata": {
    "tags": []
   },
   "outputs": [],
   "source": [
    "import json\n",
    "import random\n",
    "import pandas as pd\n",
    "from tqdm import tqdm\n",
    "import pickle as pkl"
   ]
  },
  {
   "cell_type": "code",
   "execution_count": null,
   "metadata": {
    "tags": []
   },
   "outputs": [],
   "source": [
    "aug_line2label = {}\n",
    "with open(\"aug_train_data.conll\",\"r\",encoding='utf-8') as fi_data_03:\n",
    "    turn_list_01 = fi_data_03.read().split(\"\\n\\n\")\n",
    "\n",
    "    for once_turn in turn_list_01:\n",
    "        _key = \"\"\n",
    "        for once_word in once_turn.split(\"\\n\"):\n",
    "            _key+=(\"_\".join(once_word.split(\"\\t\")[:2]))\n",
    "\n",
    "        aug_line2label[_key] = once_turn"
   ]
  },
  {
   "cell_type": "code",
   "execution_count": null,
   "metadata": {
    "ExecutionIndicator": {
     "show": true
    },
    "tags": []
   },
   "outputs": [],
   "source": [
    "rel_dct = {\n",
    "    'root': '根节点',\n",
    "    'sasubj-obj': '同主同宾',\n",
    "    'sasubj': '同主语',\n",
    "    'dfsubj': '不同主语',\n",
    "    'subj': '主语',\n",
    "    'subj-in': '内部主语',\n",
    "    'obj': '宾语',\n",
    "    'pred': '谓语',\n",
    "    'att': '定语',\n",
    "    'adv': '状语',\n",
    "    'cmp': '补语',\n",
    "    'coo': '并列',\n",
    "    'pobj': '介宾',\n",
    "    'iobj': '间宾',\n",
    "    'de': '的',\n",
    "    'adjct': '附加',\n",
    "    'app': '称呼',\n",
    "    'exp': '解释',\n",
    "    'punc': '标点',\n",
    "    'frag': '片段',\n",
    "    'repet': '重复',\n",
    "    # rst\n",
    "    'attr': '归属',\n",
    "    'bckg': '背景',\n",
    "    'cause': '因果',\n",
    "    'comp': '比较',\n",
    "    'cond': '状况',\n",
    "    'cont': '对比',\n",
    "    'elbr': '阐述',\n",
    "    'enbm': '目的',\n",
    "    'eval': '评价',\n",
    "    'expl': '解释-例证',\n",
    "    'joint': '联合',\n",
    "    'manner': '方式',\n",
    "    'rstm': '重申',\n",
    "    'temp': '时序',\n",
    "    'tp-chg': '主题变更',\n",
    "    'prob-sol': '问题-解决',\n",
    "    'qst-ans': '疑问-回答',\n",
    "    'stm-rsp': '陈述-回应',\n",
    "    'req-proc': '需求-处理',\n",
    "}\n",
    "\n",
    "\n",
    "rel_dct = {_key:idx for idx,_key in enumerate(rel_dct.keys())}"
   ]
  },
  {
   "cell_type": "code",
   "execution_count": null,
   "metadata": {
    "ExecutionIndicator": {
     "show": true
    },
    "tags": []
   },
   "outputs": [],
   "source": [
    "with open(\"test_hanlp.conll\",\"r\",encoding='utf-8') as fi_data_01, \\\n",
    "    open(\"dev_hanlp.conll\",\"r\",encoding='utf-8') as fi_data_02,\\\n",
    "    open(\"merge_gpt_hanlp.conll\",\"w\",encoding='utf-8') as fo_data_merge_gpt_hanlp:\n",
    "    turn_list_01 = fi_data_01.read().split(\"\\n\\n\")\n",
    "    turn_list_02 = fi_data_02.read().split(\"\\n\\n\")\n",
    "    turn_list = turn_list_01+turn_list_02\n",
    "\n",
    "    for once_turn in turn_list:\n",
    "        _key = \"\"\n",
    "        for once_word in once_turn.split(\"\\n\"):\n",
    "            _key+=(\"_\".join(once_word.split(\"\\t\")[:2]))\n",
    "\n",
    "        if _key in aug_line2label:\n",
    "            _value_list = aug_line2label[_key].split(\"\\n\")\n",
    "            _raw_list = once_turn.strip().split(\"\\n\")\n",
    "\n",
    "            if len(_value_list)!=len(_raw_list):\n",
    "                fo_data_merge_gpt_hanlp.write(once_turn+\"\\n\")\n",
    "                continue\n",
    "            for idx,once_word in enumerate(_raw_list):\n",
    "                ref_word_dep = _value_list[idx].split(\"\\t\")[-3]\n",
    "                once_word_infos = once_word.split(\"\\t\")\n",
    "                if (ref_word_dep!=\"root\") and (ref_word_dep!=\"-\") and (ref_word_dep in rel_dct) and (rel_dct[ref_word_dep]>21):\n",
    "                    once_word_infos[-3] = ref_word_dep\n",
    "\n",
    "                fo_data_merge_gpt_hanlp.write(\"\\t\".join(once_word_infos)+\"\\n\")\n",
    "        else:\n",
    "            fo_data_merge_gpt_hanlp.write(once_turn+\"\\n\")\n",
    "        fo_data_merge_gpt_hanlp.write(\"\\n\")"
   ]
  },
  {
   "cell_type": "code",
   "execution_count": null,
   "metadata": {},
   "outputs": [],
   "source": []
  },
  {
   "cell_type": "markdown",
   "metadata": {},
   "source": [
    "##### 与test合并"
   ]
  },
  {
   "cell_type": "code",
   "execution_count": null,
   "metadata": {},
   "outputs": [],
   "source": []
  },
  {
   "cell_type": "code",
   "execution_count": null,
   "metadata": {},
   "outputs": [],
   "source": []
  },
  {
   "cell_type": "code",
   "execution_count": null,
   "metadata": {},
   "outputs": [],
   "source": []
  },
  {
   "cell_type": "code",
   "execution_count": null,
   "metadata": {},
   "outputs": [],
   "source": []
  },
  {
   "cell_type": "code",
   "execution_count": null,
   "metadata": {},
   "outputs": [],
   "source": []
  },
  {
   "cell_type": "code",
   "execution_count": null,
   "metadata": {},
   "outputs": [],
   "source": []
  },
  {
   "cell_type": "code",
   "execution_count": null,
   "metadata": {},
   "outputs": [],
   "source": []
  }
 ],
 "metadata": {
  "kernelspec": {
   "display_name": "Python 3 (ipykernel)",
   "language": "python",
   "name": "python3"
  },
  "language_info": {
   "codemirror_mode": {
    "name": "ipython",
    "version": 3
   },
   "file_extension": ".py",
   "mimetype": "text/x-python",
   "name": "python",
   "nbconvert_exporter": "python",
   "pygments_lexer": "ipython3",
   "version": "3.11.5"
  }
 },
 "nbformat": 4,
 "nbformat_minor": 4
}
