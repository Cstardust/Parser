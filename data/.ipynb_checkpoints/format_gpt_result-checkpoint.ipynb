{
 "cells": [
  {
   "cell_type": "code",
   "execution_count": null,
   "id": "2909d419-d6d5-447d-a1a0-d7dbe2dd9bd8",
   "metadata": {
    "tags": []
   },
   "outputs": [],
   "source": [
    "import pickle as pkl\n",
    "import json"
   ]
  },
  {
   "cell_type": "code",
   "execution_count": null,
   "id": "04c4a8d7-c9d5-46b2-96f4-479d4610a0e4",
   "metadata": {
    "ExecutionIndicator": {
     "show": true
    },
    "tags": []
   },
   "outputs": [],
   "source": [
    "with open(\"dev_labeled_datas.pkl\",\"rb\") as fi_dev_labeled:\n",
    "    dev_labels_data = pkl.load(fi_dev_labeled)\n",
    "    \n",
    "with open(\"test_labeled_datas.pkl\",\"rb\") as fi_test_labeled:\n",
    "    test_labels_data = pkl.load(fi_test_labeled)\n",
    "\n",
    "gpt_label_data = dev_labels_data+test_labels_data"
   ]
  },
  {
   "cell_type": "code",
   "execution_count": null,
   "id": "47684590-840a-45b6-9284-86027897812f",
   "metadata": {
    "tags": []
   },
   "outputs": [],
   "source": [
    "label_type_list = ['root', ' sasubj-obj', ' object', ' sasubj', ' dfsubj', ' subj', ' subj-in', ' obj', ' att', ' adv', ' cmp', ' coo', ' pobj', ' iobj', ' de', ' adjct', ' app', ' exp', ' punc', ' frag', ' repet', ' bckg', ' cause', ' comp', ' cond', ' cont', ' elbr', ' enbm', ' eval', ' expl', ' joint', ' manner', ' rstm', ' temp', ' tp-chg', ' prob-sol', ' qst-ans', ' stm-rsp', ' req-proc']\n",
    "label_type_list = [_.strip() for _ in label_type_list]\n",
    "# (会_0_0,开车_0_1,root) (tail,head,dep)\n",
    "with open(\"aug_train_data.conll\",\"w\",encoding=\"utf8\") as fo_aug_train:\n",
    "    for once_labeled_data in gpt_label_data:\n",
    "        once_labeled = once_labeled_data[3]\n",
    "        once_labeled_list = once_labeled.split(\"<>\")\n",
    "        # 构造依赖关系的字典\n",
    "        turn_pos_idx2head = {}\n",
    "        for once_labeled_list_item in once_labeled_list:\n",
    "            try:\n",
    "                once_labeled_list_item = list(once_labeled_list_item.strip(\"(\").strip(\")\").split(\",\"))\n",
    "                once_labeled_list_item = [_.strip() for _ in once_labeled_list_item]\n",
    "                tail_info = once_labeled_list_item[0]\n",
    "                tail_info = tail_info.split(\"_\")\n",
    "                \n",
    "                head_info = once_labeled_list_item[1]\n",
    "                head_info = head_info.split(\"_\")\n",
    "                \n",
    "                turn_pos_idx2head.setdefault(int(tail_info[1]),{})\n",
    "                turn_pos_idx2head[int(tail_info[1])][int(tail_info[2])] = [head_info[2],once_labeled_list_item[2]]\n",
    "            except:\n",
    "                continue\n",
    "        \n",
    "        dialog_text = once_labeled_data[1]\n",
    "        formatted_sentences = []\n",
    "        for idx,once_turn in enumerate(dialog_text):\n",
    "            for jdx,once_words in enumerate(once_turn.split()):\n",
    "                if idx in turn_pos_idx2head and jdx in turn_pos_idx2head[idx] and turn_pos_idx2head[idx][jdx][1] in label_type_list:\n",
    "                    formatted_sentences.append(f\"{jdx+1}\\t{once_words}\\t_\\t_\\t_\\t_\\t{turn_pos_idx2head[idx][jdx][0]}\\t{turn_pos_idx2head[idx][jdx][1]}\\t_\\t_\")\n",
    "                else:\n",
    "                    formatted_sentences.append(f\"{jdx+1}\\t{once_words}\\t_\\t_\\t_\\t_\\t_\\t_\\t_\\t_\")\n",
    "                    \n",
    "            formatted_sentences.append(\"\")\n",
    "                    \n",
    "        # print('\\n'.join(formatted_sentences))\n",
    "        fo_aug_train.write('\\n'.join(formatted_sentences)+\"\\n\")\n",
    "    "
   ]
  },
  {
   "cell_type": "code",
   "execution_count": null,
   "id": "c59a17b1-149a-4f72-8494-713c0facddca",
   "metadata": {},
   "outputs": [],
   "source": []
  },
  {
   "cell_type": "code",
   "execution_count": null,
   "id": "0883dff9-dbf5-4d87-a440-b45294db1b94",
   "metadata": {},
   "outputs": [],
   "source": []
  },
  {
   "cell_type": "code",
   "execution_count": null,
   "id": "3f7dcd18-b075-4eee-890b-528ebc68a327",
   "metadata": {},
   "outputs": [],
   "source": []
  },
  {
   "cell_type": "code",
   "execution_count": null,
   "id": "22e9c6ec-3320-46e2-aa35-ff3d8e065ee7",
   "metadata": {},
   "outputs": [],
   "source": []
  },
  {
   "cell_type": "code",
   "execution_count": null,
   "id": "00a21066-c3cd-4d6e-8e85-c0d761267ad0",
   "metadata": {},
   "outputs": [],
   "source": []
  }
 ],
 "metadata": {
  "kernelspec": {
   "display_name": "Python 3 (ipykernel)",
   "language": "python",
   "name": "python3"
  },
  "language_info": {
   "codemirror_mode": {
    "name": "ipython",
    "version": 3
   },
   "file_extension": ".py",
   "mimetype": "text/x-python",
   "name": "python",
   "nbconvert_exporter": "python",
   "pygments_lexer": "ipython3",
   "version": "3.11.5"
  }
 },
 "nbformat": 4,
 "nbformat_minor": 5
}
