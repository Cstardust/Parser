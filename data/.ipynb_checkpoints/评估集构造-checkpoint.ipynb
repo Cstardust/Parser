{
 "cells": [
  {
   "cell_type": "code",
   "execution_count": 6,
   "id": "17d60e7c-23e2-4034-a003-2199d72251a6",
   "metadata": {
    "ExecutionIndicator": {
     "show": true
    },
    "execution": {
     "iopub.execute_input": "2024-03-23T17:04:47.878651Z",
     "iopub.status.busy": "2024-03-23T17:04:47.878269Z",
     "iopub.status.idle": "2024-03-23T17:04:48.191586Z",
     "shell.execute_reply": "2024-03-23T17:04:48.190983Z",
     "shell.execute_reply.started": "2024-03-23T17:04:47.878619Z"
    },
    "tags": []
   },
   "outputs": [],
   "source": [
    "with open(\"diag_test.conll\",\"r\",encoding=\"utf8\") as fi_diag_test,\\\n",
    "    open(\"use_test.conll\",\"w\",encoding=\"utf8\") as fo_diag_test:\n",
    "    for once_line in fi_diag_test:\n",
    "        \n",
    "        if len(once_line.strip())!=0:\n",
    "            once_line_list = once_line.strip().split(\"\\t\")\n",
    "            once_line_list[2] = \"_\"\n",
    "            once_line_list[3] = \"_\"\n",
    "            once_line = \"\\t\".join(once_line_list)\n",
    "            fo_diag_test.write(once_line+\"\\n\")\n",
    "        else:\n",
    "            fo_diag_test.write(\"\\n\")"
   ]
  },
  {
   "cell_type": "code",
   "execution_count": null,
   "id": "38b51677-5705-4938-bd39-e2b5cc045116",
   "metadata": {},
   "outputs": [],
   "source": []
  },
  {
   "cell_type": "code",
   "execution_count": null,
   "id": "4d3dfb6e-209c-468a-86b1-75c7ba7c4931",
   "metadata": {},
   "outputs": [],
   "source": []
  },
  {
   "cell_type": "code",
   "execution_count": null,
   "id": "71598cbd-2585-4c4c-8a41-fb19165e6932",
   "metadata": {},
   "outputs": [],
   "source": []
  },
  {
   "cell_type": "code",
   "execution_count": null,
   "id": "891ab19f-9d73-4a38-8a0c-f30fc6a72531",
   "metadata": {},
   "outputs": [],
   "source": []
  },
  {
   "cell_type": "code",
   "execution_count": null,
   "id": "56f387da-37c7-40f5-bfc4-fd8dd595dcff",
   "metadata": {},
   "outputs": [],
   "source": []
  },
  {
   "cell_type": "code",
   "execution_count": null,
   "id": "c2a09b77-da8d-40c7-979d-dfc50039dc2b",
   "metadata": {},
   "outputs": [],
   "source": []
  }
 ],
 "metadata": {
  "kernelspec": {
   "display_name": "Python 3 (ipykernel)",
   "language": "python",
   "name": "python3"
  },
  "language_info": {
   "codemirror_mode": {
    "name": "ipython",
    "version": 3
   },
   "file_extension": ".py",
   "mimetype": "text/x-python",
   "name": "python",
   "nbconvert_exporter": "python",
   "pygments_lexer": "ipython3",
   "version": "3.11.5"
  }
 },
 "nbformat": 4,
 "nbformat_minor": 5
}
